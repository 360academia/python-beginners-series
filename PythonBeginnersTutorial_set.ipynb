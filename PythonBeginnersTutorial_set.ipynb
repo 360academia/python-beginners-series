{
 "cells": [
  {
   "cell_type": "code",
   "execution_count": 1,
   "metadata": {},
   "outputs": [
    {
     "name": "stdout",
     "output_type": "stream",
     "text": [
      "set()\n"
     ]
    }
   ],
   "source": [
    "# Lets start by defining a set\n",
    "set_a = set()\n",
    "print(set_a)"
   ]
  },
  {
   "cell_type": "code",
   "execution_count": 2,
   "metadata": {},
   "outputs": [
    {
     "name": "stdout",
     "output_type": "stream",
     "text": [
      "{360}\n"
     ]
    }
   ],
   "source": [
    "# Let now add elements to our set.\n",
    "# If you can remember, a list uses append(). A set uses add()\n",
    "\n",
    "set_a.add(360)\n",
    "print(set_a)"
   ]
  },
  {
   "cell_type": "code",
   "execution_count": 3,
   "metadata": {},
   "outputs": [
    {
     "name": "stdout",
     "output_type": "stream",
     "text": [
      "{360, 100}\n"
     ]
    }
   ],
   "source": [
    "# Lets add another number\n",
    "set_a.add(100)\n",
    "print(set_a)"
   ]
  },
  {
   "cell_type": "code",
   "execution_count": 4,
   "metadata": {},
   "outputs": [
    {
     "name": "stdout",
     "output_type": "stream",
     "text": [
      "{360, 100}\n"
     ]
    }
   ],
   "source": [
    "# Lets try adding 360 again\n",
    "# Please not that 360 already exists in the set\n",
    "set_a.add(360)\n",
    "print(set_a)"
   ]
  },
  {
   "cell_type": "code",
   "execution_count": 5,
   "metadata": {},
   "outputs": [
    {
     "name": "stdout",
     "output_type": "stream",
     "text": [
      "360\n",
      "100\n"
     ]
    }
   ],
   "source": [
    "# Lets iterate over the items in the set\n",
    "for a in set_a:\n",
    "    print(a)"
   ]
  },
  {
   "cell_type": "code",
   "execution_count": 6,
   "metadata": {},
   "outputs": [
    {
     "name": "stdout",
     "output_type": "stream",
     "text": [
      "{1, 2, 3, 4, 5, 6}\n"
     ]
    }
   ],
   "source": [
    "# Lets create a list that contains duplicate values.\n",
    "ourList = [1, 2, 3, 2, 1, 4, 5, 6]\n",
    "\n",
    "# Using a set(), lets remove the duplicates\n",
    "use_set = set()\n",
    "for b in ourList:\n",
    "    use_set.add(b)\n",
    "print(use_set)\n",
    "\n",
    "# Line 7 adds all the elements into a new set called \"use_set\" that we created on line 5\n",
    "# Because set() doesn't permit duplicates, it will delete the duplicates."
   ]
  },
  {
   "cell_type": "code",
   "execution_count": 7,
   "metadata": {},
   "outputs": [
    {
     "name": "stdout",
     "output_type": "stream",
     "text": [
      "[1, 2, 3, 4, 5, 6]\n"
     ]
    }
   ],
   "source": [
    "# If we really needed these items without duplicates in a list, we could simply do the following\n",
    "# First we'd create a new empty list, then add the items into it using a for loop.\n",
    "newList = list()\n",
    "\n",
    "for c in use_set:\n",
    "    newList.append(c)\n",
    "print(newList)"
   ]
  },
  {
   "cell_type": "code",
   "execution_count": 8,
   "metadata": {},
   "outputs": [
    {
     "name": "stdout",
     "output_type": "stream",
     "text": [
      "{360, '360academia', 'Free learning!'}\n"
     ]
    }
   ],
   "source": [
    "# When you have mixed data types, doesn't follow the order in which the items were added.\n",
    "set_b = set()\n",
    "set_b.add('360academia')\n",
    "set_b.add('Free learning!')\n",
    "set_b.add(360)\n",
    "print(set_b)"
   ]
  },
  {
   "cell_type": "code",
   "execution_count": 9,
   "metadata": {},
   "outputs": [
    {
     "name": "stdout",
     "output_type": "stream",
     "text": [
      "The set is: \n",
      "{1, 2, 3, 4, 5, 6}\n",
      "The computed value is: \n",
      "21\n"
     ]
    }
   ],
   "source": [
    "ourSecondList = [1, 2, 3, 2, 1, 4, 5, 6]\n",
    "secondSet = set()\n",
    "adder = 0\n",
    "\n",
    "# make a set() out of the list\n",
    "for d in ourSecondList:\n",
    "    secondSet.add(d)\n",
    "\n",
    "# add up the data in the set()\n",
    "for e in secondSet:\n",
    "    adder += e\n",
    "\n",
    "# Print the results\n",
    "print(\"The set is: \")\n",
    "print(secondSet)\n",
    "print(\"The computed value is: \")\n",
    "print(adder)"
   ]
  },
  {
   "cell_type": "code",
   "execution_count": null,
   "metadata": {},
   "outputs": [],
   "source": []
  }
 ],
 "metadata": {
  "kernelspec": {
   "display_name": "Python 3",
   "language": "python",
   "name": "python3"
  },
  "language_info": {
   "codemirror_mode": {
    "name": "ipython",
    "version": 3
   },
   "file_extension": ".py",
   "mimetype": "text/x-python",
   "name": "python",
   "nbconvert_exporter": "python",
   "pygments_lexer": "ipython3",
   "version": "3.7.1"
  }
 },
 "nbformat": 4,
 "nbformat_minor": 2
}
