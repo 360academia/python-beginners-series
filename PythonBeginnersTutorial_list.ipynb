{
 "cells": [
  {
   "cell_type": "code",
   "execution_count": 1,
   "metadata": {},
   "outputs": [],
   "source": [
    "# This is how a list can be defeined\n",
    "a = [1, 2, -1, -2]\n",
    "# the statement means that there is a list call \"a\" with items \"1, 2, -1, -2\""
   ]
  },
  {
   "cell_type": "code",
   "execution_count": 2,
   "metadata": {},
   "outputs": [
    {
     "name": "stdout",
     "output_type": "stream",
     "text": [
      "[1, 2, -1, -2]\n"
     ]
    }
   ],
   "source": [
    "# lets print the list\n",
    "print(a)"
   ]
  },
  {
   "cell_type": "code",
   "execution_count": 3,
   "metadata": {},
   "outputs": [],
   "source": [
    "# A list can be edited on the fly.\n",
    "# assuming I want to add 3 to the lists, all I need do it to use the \"append\" function as shown below:\n",
    "a.append(-3)"
   ]
  },
  {
   "cell_type": "code",
   "execution_count": 4,
   "metadata": {},
   "outputs": [
    {
     "name": "stdout",
     "output_type": "stream",
     "text": [
      "[1, 2, -1, -2, -3]\n"
     ]
    }
   ],
   "source": [
    "# Lets print \"a\" to see the new (edited) list.\n",
    "print(a)"
   ]
  },
  {
   "cell_type": "code",
   "execution_count": 5,
   "metadata": {},
   "outputs": [],
   "source": [
    "# A list can also be made up of strings. both strings and integers can be contained in the same list\n",
    "# what is we nedded to add a string, instead of an integer?\n",
    "# we would still follow the same format.\n",
    "a.append(\"360academia\")"
   ]
  },
  {
   "cell_type": "code",
   "execution_count": 6,
   "metadata": {},
   "outputs": [
    {
     "name": "stdout",
     "output_type": "stream",
     "text": [
      "[1, 2, -1, -2, -3, '360academia']\n"
     ]
    }
   ],
   "source": [
    "# Print the new value to see the new result\n",
    "print(a)"
   ]
  },
  {
   "cell_type": "code",
   "execution_count": 7,
   "metadata": {},
   "outputs": [],
   "source": [
    "# what if we wanted to insert another list in the first list?\n",
    "# we still will do it the same way\n",
    "a.append([12, -12])"
   ]
  },
  {
   "cell_type": "code",
   "execution_count": 8,
   "metadata": {},
   "outputs": [
    {
     "name": "stdout",
     "output_type": "stream",
     "text": [
      "[1, 2, -1, -2, -3, '360academia', [12, -12]]\n"
     ]
    }
   ],
   "source": [
    "print(a)"
   ]
  },
  {
   "cell_type": "code",
   "execution_count": 9,
   "metadata": {},
   "outputs": [
    {
     "name": "stdout",
     "output_type": "stream",
     "text": [
      "[1, 2, -1, -2, -3, '360academia', [12, -12], ['360academia.com', 'Python']]\n"
     ]
    }
   ],
   "source": [
    "# how about adding a list of integers?\n",
    "a.append([\"360academia.com\", \"Python\"])\n",
    "print(a)"
   ]
  },
  {
   "cell_type": "code",
   "execution_count": 10,
   "metadata": {},
   "outputs": [
    {
     "name": "stdout",
     "output_type": "stream",
     "text": [
      "[1, 2, -1, -2, -3, '360academia', [12, -12]]\n"
     ]
    }
   ],
   "source": [
    "# how about removing (pop) an item from the list?\n",
    "# we would use the pop() function to do that\n",
    "a.pop()\n",
    "print(a)"
   ]
  },
  {
   "cell_type": "code",
   "execution_count": 11,
   "metadata": {},
   "outputs": [
    {
     "data": {
      "text/plain": [
       "1"
      ]
     },
     "execution_count": 11,
     "metadata": {},
     "output_type": "execute_result"
    }
   ],
   "source": [
    "# what is you just want to show one particular item in the list?\n",
    "# Remember we ealier stated that lists are numbered, and the numbering starts from 0\n",
    "# we just need to find the number or position of the item we want to view\n",
    "a[0]"
   ]
  },
  {
   "cell_type": "code",
   "execution_count": 12,
   "metadata": {},
   "outputs": [
    {
     "name": "stdout",
     "output_type": "stream",
     "text": [
      "1\n"
     ]
    }
   ],
   "source": [
    "# we could also specify the print statement to get the same result\n",
    "print(a[0])"
   ]
  },
  {
   "cell_type": "code",
   "execution_count": 13,
   "metadata": {},
   "outputs": [
    {
     "data": {
      "text/plain": [
       "'360academia'"
      ]
     },
     "execution_count": 13,
     "metadata": {},
     "output_type": "execute_result"
    }
   ],
   "source": [
    "# Lets get \"360academia\" from the list\n",
    "a[5]"
   ]
  },
  {
   "cell_type": "code",
   "execution_count": 14,
   "metadata": {},
   "outputs": [
    {
     "data": {
      "text/plain": [
       "[12, -12]"
      ]
     },
     "execution_count": 14,
     "metadata": {},
     "output_type": "execute_result"
    }
   ],
   "source": [
    "# how about getting the list?\n",
    "a[6]"
   ]
  },
  {
   "cell_type": "code",
   "execution_count": 15,
   "metadata": {},
   "outputs": [],
   "source": [
    "# we could wish to change the value of a particular item. We could do it as shown below.\n",
    "a[4] = 360"
   ]
  },
  {
   "cell_type": "code",
   "execution_count": 16,
   "metadata": {},
   "outputs": [
    {
     "name": "stdout",
     "output_type": "stream",
     "text": [
      "[1, 2, -1, -2, 360, '360academia', [12, -12]]\n"
     ]
    }
   ],
   "source": [
    "print(a)\n",
    "# notice that the value changed from -3 to 360"
   ]
  },
  {
   "cell_type": "code",
   "execution_count": 17,
   "metadata": {},
   "outputs": [
    {
     "name": "stdout",
     "output_type": "stream",
     "text": [
      "['learning!', 'are', 'We']\n"
     ]
    }
   ],
   "source": [
    "# lets create another list that makes a sentence\n",
    "myList = [\"learning!\", \"are\", \"We\"]\n",
    "print(myList)"
   ]
  },
  {
   "cell_type": "code",
   "execution_count": 18,
   "metadata": {},
   "outputs": [
    {
     "name": "stdout",
     "output_type": "stream",
     "text": [
      "['We', 'are', 'learning!']\n"
     ]
    }
   ],
   "source": [
    "# lets say we want to to make the sentence state \"We are learning!\"\n",
    "# We would first temporarily assign myList[0] to a temporary location or variable (you can give it any name you wish)\n",
    "# Secondly, we would replace myList[2] with myList[0]\n",
    "# Thirdly we would then assign the temporary value to myList[0]\n",
    "\n",
    "temporaryVariable = myList[0]\n",
    "# Now the value of myList[0] has been given to temporaryVariable\n",
    "\n",
    "myList[0] = myList[2]\n",
    "# we have now given the value of myList[2] over to myList[0]\n",
    "\n",
    "myList[2] = temporaryVariable\n",
    "# we have given the value of temporaryVariable over to myList[2]\n",
    "\n",
    "# Lets print and see what happens\n",
    "print(myList)"
   ]
  },
  {
   "cell_type": "code",
   "execution_count": 19,
   "metadata": {},
   "outputs": [
    {
     "name": "stdout",
     "output_type": "stream",
     "text": [
      "['learning!', 'are', 'We']\n"
     ]
    }
   ],
   "source": [
    "# There is another way of doing this. We will specify the lists and where we want them to go to\n",
    "# See an example below:\n",
    "myList[0], myList[2] = myList[2], myList[0]\n",
    "# This statement says that myList[0] and myList[2] should GIVE their values to myList[2] and myList[0]\n",
    "print(myList)"
   ]
  },
  {
   "cell_type": "code",
   "execution_count": 21,
   "metadata": {},
   "outputs": [
    {
     "data": {
      "text/plain": [
       "[1, 2, 3, 4, 5, 6, 7, 8, 9]"
      ]
     },
     "execution_count": 21,
     "metadata": {},
     "output_type": "execute_result"
    }
   ],
   "source": [
    "# we could have a list that is made up of a range of values\n",
    "# for instance\n",
    "list(range(1,10))\n",
    "\n",
    "# the code above indicates that the list is made of values from 1 till before 10"
   ]
  },
  {
   "cell_type": "code",
   "execution_count": null,
   "metadata": {},
   "outputs": [],
   "source": []
  }
 ],
 "metadata": {
  "kernelspec": {
   "display_name": "Python 3",
   "language": "python",
   "name": "python3"
  },
  "language_info": {
   "codemirror_mode": {
    "name": "ipython",
    "version": 3
   },
   "file_extension": ".py",
   "mimetype": "text/x-python",
   "name": "python",
   "nbconvert_exporter": "python",
   "pygments_lexer": "ipython3",
   "version": "3.7.1"
  }
 },
 "nbformat": 4,
 "nbformat_minor": 2
}
