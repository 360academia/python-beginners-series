{
 "cells": [
  {
   "cell_type": "code",
   "execution_count": null,
   "metadata": {},
   "outputs": [],
   "source": [
    "# Lets start by defining a very basic dictionary\n",
    "# An empty ditionary will take the form \"first_dictionary{}\""
   ]
  },
  {
   "cell_type": "code",
   "execution_count": 1,
   "metadata": {},
   "outputs": [],
   "source": [
    "# Lets define our first EMPTY dictionary\n",
    "a = {}"
   ]
  },
  {
   "cell_type": "code",
   "execution_count": 2,
   "metadata": {},
   "outputs": [],
   "source": [
    "# Lets define a dictionary that has some predefined keys and values\n",
    "first_key = {\"360academia\":360, \"Python\":20, \"Programming\": 100}"
   ]
  },
  {
   "cell_type": "code",
   "execution_count": 3,
   "metadata": {},
   "outputs": [
    {
     "name": "stdout",
     "output_type": "stream",
     "text": [
      "{'360academia': 360, 'Python': 20, 'Programming': 100}\n"
     ]
    }
   ],
   "source": [
    "print(first_key)"
   ]
  },
  {
   "cell_type": "code",
   "execution_count": 4,
   "metadata": {},
   "outputs": [],
   "source": [
    "# Lets add a new key to the dictionary\n",
    "first_key[\"Classes\"] = 50"
   ]
  },
  {
   "cell_type": "code",
   "execution_count": 5,
   "metadata": {},
   "outputs": [
    {
     "name": "stdout",
     "output_type": "stream",
     "text": [
      "{'360academia': 360, 'Python': 20, 'Programming': 100, 'Classes': 50}\n"
     ]
    }
   ],
   "source": [
    "# Lets print and see what happens\n",
    "# Note the new values after we have printed\n",
    "print(first_key)"
   ]
  },
  {
   "cell_type": "code",
   "execution_count": 7,
   "metadata": {},
   "outputs": [
    {
     "name": "stdout",
     "output_type": "stream",
     "text": [
      "360\n"
     ]
    }
   ],
   "source": [
    "# We could choose what exactly we wanted to see\n",
    "print(first_key[\"360academia\"])"
   ]
  },
  {
   "cell_type": "code",
   "execution_count": 8,
   "metadata": {},
   "outputs": [
    {
     "name": "stdout",
     "output_type": "stream",
     "text": [
      "360\n",
      "20\n",
      "50\n"
     ]
    }
   ],
   "source": [
    "# Lets print for others\n",
    "print(first_key[\"360academia\"])\n",
    "print(first_key[\"Python\"])\n",
    "print(first_key[\"Classes\"])"
   ]
  },
  {
   "cell_type": "code",
   "execution_count": 9,
   "metadata": {},
   "outputs": [
    {
     "ename": "KeyError",
     "evalue": "'360academia.com'",
     "output_type": "error",
     "traceback": [
      "\u001b[1;31m---------------------------------------------------------------------------\u001b[0m",
      "\u001b[1;31mKeyError\u001b[0m                                  Traceback (most recent call last)",
      "\u001b[1;32m<ipython-input-9-0b34cc418663>\u001b[0m in \u001b[0;36m<module>\u001b[1;34m\u001b[0m\n\u001b[0;32m      1\u001b[0m \u001b[1;31m# What if we try to print something that isn't in out dictionary?\u001b[0m\u001b[1;33m\u001b[0m\u001b[1;33m\u001b[0m\u001b[1;33m\u001b[0m\u001b[0m\n\u001b[1;32m----> 2\u001b[1;33m \u001b[0mprint\u001b[0m\u001b[1;33m(\u001b[0m\u001b[0mfirst_key\u001b[0m\u001b[1;33m[\u001b[0m\u001b[1;34m\"360academia.com\"\u001b[0m\u001b[1;33m]\u001b[0m\u001b[1;33m)\u001b[0m\u001b[1;33m\u001b[0m\u001b[1;33m\u001b[0m\u001b[0m\n\u001b[0m",
      "\u001b[1;31mKeyError\u001b[0m: '360academia.com'"
     ]
    }
   ],
   "source": [
    "# What if we try to print something that isn't in out dictionary?\n",
    "print(first_key[\"360academia.com\"])"
   ]
  },
  {
   "cell_type": "code",
   "execution_count": 10,
   "metadata": {},
   "outputs": [],
   "source": [
    "# Lets add a few numbers to our dictionary\n",
    "first_key[1] = 10\n",
    "first_key[5] = 20"
   ]
  },
  {
   "cell_type": "code",
   "execution_count": 11,
   "metadata": {},
   "outputs": [
    {
     "name": "stdout",
     "output_type": "stream",
     "text": [
      "{'360academia': 360, 'Python': 20, 'Programming': 100, 'Classes': 50, 1: 10, 5: 20}\n"
     ]
    }
   ],
   "source": [
    "print(first_key)"
   ]
  },
  {
   "cell_type": "code",
   "execution_count": 12,
   "metadata": {},
   "outputs": [
    {
     "name": "stdout",
     "output_type": "stream",
     "text": [
      "10\n",
      "20\n"
     ]
    }
   ],
   "source": [
    "print(first_key[1])\n",
    "print(first_key[5])"
   ]
  },
  {
   "cell_type": "code",
   "execution_count": 14,
   "metadata": {},
   "outputs": [
    {
     "name": "stdout",
     "output_type": "stream",
     "text": [
      "Key\n",
      "360academia\n",
      "Value\n",
      "360\n",
      "Key\n",
      "Python\n",
      "Value\n",
      "20\n",
      "Key\n",
      "Programming\n",
      "Value\n",
      "100\n",
      "Key\n",
      "Classes\n",
      "Value\n",
      "50\n",
      "Key\n",
      "1\n",
      "Value\n",
      "10\n",
      "Key\n",
      "5\n",
      "Value\n",
      "20\n"
     ]
    }
   ],
   "source": [
    "# Lets iterate and print out the values of our dictionary\n",
    "# We would state what we really want, which are \"keys and Values\"\n",
    "# What we want is a loop, so we need to loop through the whole \"items\"\n",
    "\n",
    "for key, value in first_key.items():\n",
    "    print(\"Key\")\n",
    "    print(key)\n",
    "    print(\"Value\")\n",
    "    print(value)"
   ]
  },
  {
   "cell_type": "code",
   "execution_count": 15,
   "metadata": {},
   "outputs": [
    {
     "name": "stdout",
     "output_type": "stream",
     "text": [
      "360academia\n",
      "360\n",
      "Python\n",
      "20\n",
      "Programming\n",
      "100\n",
      "Classes\n",
      "50\n",
      "1\n",
      "10\n",
      "5\n",
      "20\n"
     ]
    }
   ],
   "source": [
    "# Lets comment out the Labels\n",
    "# You can delete yours if you like\n",
    "\n",
    "for key, value in first_key.items():\n",
    "#     print(\"Key\")\n",
    "    print(key)\n",
    "#     print(\"Value\")\n",
    "    print(value)"
   ]
  },
  {
   "cell_type": "code",
   "execution_count": 16,
   "metadata": {},
   "outputs": [
    {
     "name": "stdout",
     "output_type": "stream",
     "text": [
      "360academia\n",
      "360\n",
      " \n",
      "Python\n",
      "20\n",
      " \n",
      "Programming\n",
      "100\n",
      " \n",
      "Classes\n",
      "50\n",
      " \n",
      "1\n",
      "10\n",
      " \n",
      "5\n",
      "20\n",
      " \n"
     ]
    }
   ],
   "source": [
    "# How about having spaces in-between each item\n",
    "\n",
    "for key, value in first_key.items():\n",
    "    print(key)\n",
    "    print(value)\n",
    "    print(\" \")"
   ]
  },
  {
   "cell_type": "code",
   "execution_count": 17,
   "metadata": {},
   "outputs": [
    {
     "name": "stdout",
     "output_type": "stream",
     "text": [
      "Key:\n",
      "360academia\n",
      "Value:\n",
      "360\n",
      " \n",
      "Key:\n",
      "Python\n",
      "Value:\n",
      "20\n",
      " \n",
      "Key:\n",
      "Programming\n",
      "Value:\n",
      "100\n",
      " \n",
      "Key:\n",
      "Classes\n",
      "Value:\n",
      "50\n",
      " \n",
      "Key:\n",
      "1\n",
      "Value:\n",
      "10\n",
      " \n",
      "Key:\n",
      "5\n",
      "Value:\n",
      "20\n",
      " \n"
     ]
    }
   ],
   "source": [
    "# We could add the labes and still seperate them\n",
    "for key, value in first_key.items():\n",
    "    print(\"Key:\")\n",
    "    print(key)\n",
    "    print(\"Value:\")\n",
    "    print(value)\n",
    "    print(\" \")"
   ]
  },
  {
   "cell_type": "code",
   "execution_count": null,
   "metadata": {},
   "outputs": [],
   "source": []
  }
 ],
 "metadata": {
  "kernelspec": {
   "display_name": "Python 3",
   "language": "python",
   "name": "python3"
  },
  "language_info": {
   "codemirror_mode": {
    "name": "ipython",
    "version": 3
   },
   "file_extension": ".py",
   "mimetype": "text/x-python",
   "name": "python",
   "nbconvert_exporter": "python",
   "pygments_lexer": "ipython3",
   "version": "3.7.1"
  }
 },
 "nbformat": 4,
 "nbformat_minor": 2
}
