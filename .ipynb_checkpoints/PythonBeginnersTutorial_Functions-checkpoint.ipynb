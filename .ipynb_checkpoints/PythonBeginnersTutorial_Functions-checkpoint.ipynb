{
 "cells": [
  {
   "cell_type": "code",
   "execution_count": 1,
   "metadata": {},
   "outputs": [
    {
     "name": "stdout",
     "output_type": "stream",
     "text": [
      "I am not a function and I am not within the fnction block\n"
     ]
    }
   ],
   "source": [
    "# Let us define our first function\n",
    "def first_function():\n",
    "    print(\"I am the first function, and I am within the function block!\")\n",
    "\n",
    "# this is ourside the function block\n",
    "print(\"I am not a function and I am not within the fnction block\")"
   ]
  },
  {
   "cell_type": "code",
   "execution_count": 2,
   "metadata": {},
   "outputs": [
    {
     "name": "stdout",
     "output_type": "stream",
     "text": [
      "I am not a function and I am not within the fnction block\n",
      "I am the first function, and I am within the function block!\n"
     ]
    }
   ],
   "source": [
    "# Let us define another function\n",
    "def first_function():\n",
    "    print(\"I am the first function, and I am within the function block!\")\n",
    "print(\"I am not a function and I am not within the fnction block\")\n",
    "\n",
    "# now we are calling the function we defined\n",
    "first_function()"
   ]
  },
  {
   "cell_type": "code",
   "execution_count": 3,
   "metadata": {},
   "outputs": [],
   "source": [
    "# Lets define a function and pass in an ARGUMENT inside of it\n",
    "# We will also make it return a value that will depend on what we pass into the argument \"a\"\n",
    "def secondFunction(a):\n",
    "    return a*5"
   ]
  },
  {
   "cell_type": "code",
   "execution_count": 4,
   "metadata": {},
   "outputs": [
    {
     "data": {
      "text/plain": [
       "15"
      ]
     },
     "execution_count": 4,
     "metadata": {},
     "output_type": "execute_result"
    }
   ],
   "source": [
    "# No that the function is ready, we need to pass in a value for \"a\" before printing\n",
    "secondFunction(3)"
   ]
  },
  {
   "cell_type": "code",
   "execution_count": 5,
   "metadata": {},
   "outputs": [],
   "source": [
    "# The argument we passed into the function stated that it should multiply 3 by 5 and print NEW value"
   ]
  },
  {
   "cell_type": "code",
   "execution_count": 6,
   "metadata": {},
   "outputs": [
    {
     "name": "stdout",
     "output_type": "stream",
     "text": [
      "20\n"
     ]
    }
   ],
   "source": [
    "# we could also print by assigning the fuction to a variable\n",
    "x = secondFunction(4)\n",
    "print(x)"
   ]
  },
  {
   "cell_type": "code",
   "execution_count": 7,
   "metadata": {},
   "outputs": [
    {
     "ename": "TypeError",
     "evalue": "secondFunction() missing 1 required positional argument: 'a'",
     "output_type": "error",
     "traceback": [
      "\u001b[1;31m---------------------------------------------------------------------------\u001b[0m",
      "\u001b[1;31mTypeError\u001b[0m                                 Traceback (most recent call last)",
      "\u001b[1;32m<ipython-input-7-5d874ccc5b39>\u001b[0m in \u001b[0;36m<module>\u001b[1;34m\u001b[0m\n\u001b[0;32m      1\u001b[0m \u001b[1;31m# lets try calling the function without an argument\u001b[0m\u001b[1;33m\u001b[0m\u001b[1;33m\u001b[0m\u001b[1;33m\u001b[0m\u001b[0m\n\u001b[1;32m----> 2\u001b[1;33m \u001b[0msecondFunction\u001b[0m\u001b[1;33m(\u001b[0m\u001b[1;33m)\u001b[0m\u001b[1;33m\u001b[0m\u001b[1;33m\u001b[0m\u001b[0m\n\u001b[0m",
      "\u001b[1;31mTypeError\u001b[0m: secondFunction() missing 1 required positional argument: 'a'"
     ]
    }
   ],
   "source": [
    "# lets try calling the function without an argument\n",
    "secondFunction()"
   ]
  },
  {
   "cell_type": "code",
   "execution_count": 8,
   "metadata": {},
   "outputs": [
    {
     "data": {
      "text/plain": [
       "2"
      ]
     },
     "execution_count": 8,
     "metadata": {},
     "output_type": "execute_result"
    }
   ],
   "source": [
    "# Inputting two values into our function will work like this\n",
    "def function3(b, c):\n",
    "    return b - c\n",
    "\n",
    "# lets call the function and print the output\n",
    "function3(5, 3)"
   ]
  },
  {
   "cell_type": "code",
   "execution_count": 9,
   "metadata": {},
   "outputs": [
    {
     "name": "stdout",
     "output_type": "stream",
     "text": [
      "4\n"
     ]
    }
   ],
   "source": [
    "# Note that the output gives us the correct answer.\n",
    "# we could also use a variable to call the function\n",
    "y = function3(10, 6)\n",
    "print(y)"
   ]
  },
  {
   "cell_type": "code",
   "execution_count": 10,
   "metadata": {},
   "outputs": [],
   "source": [
    "# to first sow the value a user typed in, you could do it as shown below\n",
    "def Function4(d):\n",
    "    print(\"I inputted: \")\n",
    "    print(d)\n",
    "    return 10 - d"
   ]
  },
  {
   "cell_type": "code",
   "execution_count": 11,
   "metadata": {},
   "outputs": [
    {
     "name": "stdout",
     "output_type": "stream",
     "text": [
      "I inputted: \n",
      "7\n",
      "The function after calculation is: \n",
      "3\n"
     ]
    }
   ],
   "source": [
    "e = Function4(7)\n",
    "print(\"The function after calculation is: \")\n",
    "print(e)"
   ]
  },
  {
   "cell_type": "code",
   "execution_count": 12,
   "metadata": {},
   "outputs": [],
   "source": [
    "# Lets combine variables, print and functions all in one, using the BMI calculator we previously created\n",
    "person1 = \"Person 1\"\n",
    "person1_height_m = 1.5\n",
    "person1_weight_kg = 79\n",
    "\n",
    "person2 = \"Person 2\"\n",
    "person2_height_m = 3\n",
    "person2_weight_kg = 70"
   ]
  },
  {
   "cell_type": "code",
   "execution_count": 13,
   "metadata": {},
   "outputs": [],
   "source": [
    "# Now lets setup a funtion for the bmi calculator\n",
    "def the_BMI_calculator(person, height, weight):\n",
    "    #Now thw formula\n",
    "    bmi = weight / (height ** 2)\n",
    "    print(\"the BMI is = \")\n",
    "    print(bmi)\n",
    "    #Lets now check if the persons are overweight or not.\n",
    "    if bmi < 25:\n",
    "        return person + \" is not overweight\"\n",
    "    else:\n",
    "        return person + \" is overweight!\"\n",
    "# at the point, we are still getting out formulas ready. we haven't diapayed any results yet"
   ]
  },
  {
   "cell_type": "code",
   "execution_count": 14,
   "metadata": {},
   "outputs": [
    {
     "name": "stdout",
     "output_type": "stream",
     "text": [
      "the BMI is = \n",
      "35.111111111111114\n",
      "the BMI is = \n",
      "7.777777777777778\n"
     ]
    }
   ],
   "source": [
    "# lets get for the two different people individually\n",
    "first_person = the_BMI_calculator(person1, person1_height_m, person1_weight_kg)\n",
    "second_person = the_BMI_calculator(person2, person2_height_m, person2_weight_kg)\n",
    "# Run this block"
   ]
  },
  {
   "cell_type": "code",
   "execution_count": 15,
   "metadata": {},
   "outputs": [
    {
     "name": "stdout",
     "output_type": "stream",
     "text": [
      "Person 1 is overweight!\n",
      "Person 2 is not overweight\n"
     ]
    }
   ],
   "source": [
    "# you can now print the individuals result\n",
    "print(first_person)\n",
    "print(second_person)"
   ]
  },
  {
   "cell_type": "code",
   "execution_count": null,
   "metadata": {},
   "outputs": [],
   "source": []
  }
 ],
 "metadata": {
  "kernelspec": {
   "display_name": "Python 3",
   "language": "python",
   "name": "python3"
  },
  "language_info": {
   "codemirror_mode": {
    "name": "ipython",
    "version": 3
   },
   "file_extension": ".py",
   "mimetype": "text/x-python",
   "name": "python",
   "nbconvert_exporter": "python",
   "pygments_lexer": "ipython3",
   "version": "3.7.1"
  }
 },
 "nbformat": 4,
 "nbformat_minor": 2
}
