{
 "cells": [
  {
   "cell_type": "code",
   "execution_count": 1,
   "metadata": {},
   "outputs": [],
   "source": [
    "# To define a class, you just need to use the researved word \"class\"\n",
    "# Lets have a simple illustration of a class with a simple example of naming websites\n",
    "\n",
    "class Website:\n",
    "    def searchEngine(self):\n",
    "        print(\"The search engine is \" + self.name)\n",
    "\n",
    "# A class usually carries a function withing it. We define the function just below the class.\n",
    "# Please note the indentations and always rememebr that Python is case sensitve.\n",
    "# The print statement within the class usually executes when the class is called.\n",
    "# Run the code"
   ]
  },
  {
   "cell_type": "code",
   "execution_count": 2,
   "metadata": {},
   "outputs": [],
   "source": [
    "# Lets call the class and add an object to it\n",
    "\n",
    "site_one = Website()\n",
    "site_one.name = \"Google\"\n",
    "site_one.url = \"google.com\"\n",
    "\n",
    "site_two = Website()\n",
    "site_two.name = \"Bing\"\n",
    "site_two.url = \"bing.com\"\n",
    "\n",
    "site_three = Website()\n",
    "site_three.name = \"Yahoo\"\n",
    "site_three.url = \"yahoo.com\""
   ]
  },
  {
   "cell_type": "code",
   "execution_count": 3,
   "metadata": {},
   "outputs": [
    {
     "name": "stdout",
     "output_type": "stream",
     "text": [
      "The search engine is Google\n",
      "The search engine is Bing\n",
      "The search engine is Yahoo\n"
     ]
    }
   ],
   "source": [
    "# Lets print the code we have just created by calling the function on block one and the object on block two\n",
    "site_one.searchEngine()\n",
    "site_two.searchEngine()\n",
    "site_three.searchEngine()\n",
    "\n",
    "# we won't need to pass in any argument into the function in this case."
   ]
  },
  {
   "cell_type": "code",
   "execution_count": 4,
   "metadata": {},
   "outputs": [],
   "source": [
    "# Lets define another class that does something similar\n",
    "# We shall be defining a cnstructor\n",
    "# DOUBLE UNDERSCORE is used to define a constructor in Python\n",
    "\n",
    "class Gadgets:\n",
    "    def __init__(self, theProducer, theName, theSize):\n",
    "        self.theProducer = theProducer\n",
    "        self.theName = theName\n",
    "        self.theSize = theSize\n",
    "        \n",
    "    def Brands(self):\n",
    "        print(self.theProducer + \" produced \" + self.theName + \" and its size is: \" + self.theSize)\n",
    "        \n",
    "# Note that the function still caries an argument of self\n",
    "# Also note that we edited the output to show self.theProducer\n",
    "# We have also edited the print statement to diplay more objects"
   ]
  },
  {
   "cell_type": "code",
   "execution_count": 5,
   "metadata": {},
   "outputs": [],
   "source": [
    "gadget_1 = Gadgets(\"HP\", \"Laptop\", \"32 inch\")\n",
    "gadget_2 = Gadgets(\"Dell\", \"Hard Drive\", \"500GB\")\n",
    "gadget_3 = Gadgets(\"360 Gadgets\", \"360 Drive\", \"1TB\")\n",
    "# Notice that we didn't have to type out the attribute names as we did before\n",
    "# Bassed on our constructor, the attributes required are arranged in their right form.\n",
    "# When entering the data, we enter following the same format."
   ]
  },
  {
   "cell_type": "code",
   "execution_count": 6,
   "metadata": {},
   "outputs": [
    {
     "name": "stdout",
     "output_type": "stream",
     "text": [
      "HP produced Laptop and its size is: 32 inch\n",
      "Dell produced Hard Drive and its size is: 500GB\n",
      "360 Gadgets produced 360 Drive and its size is: 1TB\n"
     ]
    }
   ],
   "source": [
    "# Now, lets print to see our output\n",
    "gadget_1.Brands()\n",
    "gadget_2.Brands()\n",
    "gadget_3.Brands()"
   ]
  }
 ],
 "metadata": {
  "kernelspec": {
   "display_name": "Python 3",
   "language": "python",
   "name": "python3"
  },
  "language_info": {
   "codemirror_mode": {
    "name": "ipython",
    "version": 3
   },
   "file_extension": ".py",
   "mimetype": "text/x-python",
   "name": "python",
   "nbconvert_exporter": "python",
   "pygments_lexer": "ipython3",
   "version": "3.7.1"
  }
 },
 "nbformat": 4,
 "nbformat_minor": 2
}
