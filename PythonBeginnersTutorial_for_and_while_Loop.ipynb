{
 "cells": [
  {
   "cell_type": "code",
   "execution_count": 1,
   "metadata": {},
   "outputs": [],
   "source": [
    "myList = [\"I\", \"am\", \"studying\", \"with\", \"360academia.com\"]"
   ]
  },
  {
   "cell_type": "code",
   "execution_count": 2,
   "metadata": {},
   "outputs": [
    {
     "name": "stdout",
     "output_type": "stream",
     "text": [
      "['I', 'am', 'studying', 'with', '360academia.com']\n",
      "['I', 'am', 'studying', 'with', '360academia.com']\n",
      "['I', 'am', 'studying', 'with', '360academia.com']\n",
      "['I', 'am', 'studying', 'with', '360academia.com']\n",
      "['I', 'am', 'studying', 'with', '360academia.com']\n"
     ]
    }
   ],
   "source": [
    "# Notice that there are 5 items in myList, ranging from 0 - 4\n",
    "# The for structure will be\n",
    "for words in myList:\n",
    "    print(myList)\n",
    "\n",
    "#     The statement above will print the entire myList by the number of items in it"
   ]
  },
  {
   "cell_type": "code",
   "execution_count": 3,
   "metadata": {},
   "outputs": [
    {
     "name": "stdout",
     "output_type": "stream",
     "text": [
      "I\n",
      "am\n",
      "studying\n",
      "with\n",
      "360academia.com\n"
     ]
    }
   ],
   "source": [
    "# Lets try something different\n",
    "for words in myList:\n",
    "    print(words)\n",
    "\n",
    "# Look closely at both codes and note the print statements, as well as the outputs we get."
   ]
  },
  {
   "cell_type": "code",
   "execution_count": 4,
   "metadata": {},
   "outputs": [
    {
     "name": "stdout",
     "output_type": "stream",
     "text": [
      "I\n",
      "am\n",
      "studying\n",
      "with\n",
      "360academia.com\n"
     ]
    }
   ],
   "source": [
    "# the variable doesn't have to be lengthy. It could be just one leter\n",
    "for a in myList:\n",
    "    print(a)"
   ]
  },
  {
   "cell_type": "code",
   "execution_count": 5,
   "metadata": {},
   "outputs": [
    {
     "name": "stdout",
     "output_type": "stream",
     "text": [
      "12\n",
      "-12\n",
      "15\n",
      "-15\n"
     ]
    }
   ],
   "source": [
    "# Lets try integers (numbers)\n",
    "b = [12, -12, 15, -15]\n",
    "\n",
    "for c in b:\n",
    "    print(c)"
   ]
  },
  {
   "cell_type": "code",
   "execution_count": 6,
   "metadata": {},
   "outputs": [
    {
     "name": "stdout",
     "output_type": "stream",
     "text": [
      "50\n"
     ]
    }
   ],
   "source": [
    "# Let try adding the elements of the list with a for loop\n",
    "# The code will look like this:\n",
    "\n",
    "# Variable declaration\n",
    "d = [5, 10, 15, 20]\n",
    "\n",
    "# We will be using the variable adder for calculating, so we need to make its number to be 0 (empty)\n",
    "adder = 0\n",
    "\n",
    "# the forloop\n",
    "for e in d:\n",
    "    adder = adder + e\n",
    "\n",
    "#     lets print what we have just done\n",
    "print(adder)"
   ]
  },
  {
   "cell_type": "code",
   "execution_count": 7,
   "metadata": {},
   "outputs": [
    {
     "name": "stdout",
     "output_type": "stream",
     "text": [
      "1\n",
      "2\n",
      "3\n",
      "4\n",
      "5\n",
      "6\n",
      "7\n",
      "8\n",
      "9\n"
     ]
    }
   ],
   "source": [
    "# Remember the lesson on \"list\"?\n",
    "# we talked about ranges. I also applies here\n",
    "for f in range(1,10):\n",
    "    print(f)"
   ]
  },
  {
   "cell_type": "code",
   "execution_count": 8,
   "metadata": {},
   "outputs": [
    {
     "name": "stdout",
     "output_type": "stream",
     "text": [
      "45\n"
     ]
    }
   ],
   "source": [
    "# How about adding the values of the range?\n",
    "# It will take the same shape as before.\n",
    "\n",
    "# Initializing a vatiable for out calculation\n",
    "adder2 = 0\n",
    "\n",
    "for g in range(1,10):\n",
    "    adder2 += g\n",
    "    #The code above means the same as \"adder2 = adder2 + g\". t is much cleaner.\n",
    "print(adder2)"
   ]
  },
  {
   "cell_type": "code",
   "execution_count": 9,
   "metadata": {},
   "outputs": [
    {
     "name": "stdout",
     "output_type": "stream",
     "text": [
      "It isn't larger than 50\n"
     ]
    }
   ],
   "source": [
    "h = range(1, 10)\n",
    "adder3 = 0\n",
    "\n",
    "for i in h:\n",
    "    adder3 += i\n",
    "if adder3 > 50:\n",
    "    print(\"It is bigger than 50\")\n",
    "    print(adder3)\n",
    "else:\n",
    "    print(\"It isn't larger than 50\")"
   ]
  },
  {
   "cell_type": "code",
   "execution_count": 10,
   "metadata": {},
   "outputs": [
    {
     "name": "stdout",
     "output_type": "stream",
     "text": [
      "45\n"
     ]
    }
   ],
   "source": [
    "# Lets have a for loop code as shown below.\n",
    "adder4 = 0\n",
    "for j in range(1, 10):\n",
    "    adder4 += j\n",
    "print(adder4)"
   ]
  },
  {
   "cell_type": "code",
   "execution_count": 11,
   "metadata": {},
   "outputs": [
    {
     "name": "stdout",
     "output_type": "stream",
     "text": [
      "45\n"
     ]
    }
   ],
   "source": [
    "# Lets illustrate a while loop\n",
    "# The while loop equivilent of the code above is given below\n",
    "\n",
    "adder5 = 0\n",
    "k = 1\n",
    "\n",
    "while k < 10:\n",
    "    adder5 += k\n",
    "    k += 1\n",
    "print(adder5)\n",
    "\n",
    "# We First initialized our values giving \"adder5 = 0\" as well as initializing \"k\" as a starting point with \"1\"\n",
    "# the we state that k starting from 1 should end at ten (see line 7) on the while loop statement\n",
    "# The loop continues and adds every value it comes across for as long as k hasn't reached 10"
   ]
  },
  {
   "cell_type": "code",
   "execution_count": 12,
   "metadata": {},
   "outputs": [
    {
     "name": "stdout",
     "output_type": "stream",
     "text": [
      "42\n"
     ]
    }
   ],
   "source": [
    "loop_list1 = [12, 11, 9, 5, 4, 1, -1, -12, -14]\n",
    "adder6 = 0\n",
    "l = 0\n",
    "\n",
    "while loop_list1[l] > 0:\n",
    "    adder6 += loop_list1[l]\n",
    "    l += 1\n",
    "print(adder6)\n",
    "\n",
    "# A list has been defined on line 1\n",
    "# We have also defined an initial value (adder6 = 0) and a starting point of \"l = 0\"\n",
    "# l starts counting the list from position 0 till it gets to a point where there are no more positive integers\n",
    "# The loop continues until a negative value is reached."
   ]
  },
  {
   "cell_type": "code",
   "execution_count": 13,
   "metadata": {},
   "outputs": [
    {
     "name": "stdout",
     "output_type": "stream",
     "text": [
      "42\n"
     ]
    }
   ],
   "source": [
    "# We would do this differently if the list didn't contain any negative values.\n",
    "\n",
    "loop_list1 = [12, 11, 9, 5, 4, 1]\n",
    "adder6 = 0\n",
    "l = 0\n",
    "\n",
    "while l < len(loop_list1) and loop_list1[l] > 0:\n",
    "    adder6 += loop_list1[l]\n",
    "    l += 1\n",
    "print(adder6)\n",
    "# \"len\" is a predefined function in python that give the length of of items. In this case we will have 6 (list from 0 - 5)"
   ]
  },
  {
   "cell_type": "code",
   "execution_count": 15,
   "metadata": {},
   "outputs": [
    {
     "name": "stdout",
     "output_type": "stream",
     "text": [
      "42\n"
     ]
    }
   ],
   "source": [
    "loop_list2 = [12, 11, 9, 5, 4, 1, -1, -12, -14]\n",
    "adder7 = 0\n",
    "\n",
    "for m in loop_list2:\n",
    "    if m <= 0:\n",
    "        break\n",
    "    adder7 += m\n",
    "print(adder7)\n",
    "\n",
    "# On line 5, it checks to see all the numbers that are smaller than 0. If such numbers exist, it breaks the operation.\n",
    "# If it doesn't come across such a number, it keeps going."
   ]
  },
  {
   "cell_type": "code",
   "execution_count": null,
   "metadata": {},
   "outputs": [],
   "source": []
  }
 ],
 "metadata": {
  "kernelspec": {
   "display_name": "Python 3",
   "language": "python",
   "name": "python3"
  },
  "language_info": {
   "codemirror_mode": {
    "name": "ipython",
    "version": 3
   },
   "file_extension": ".py",
   "mimetype": "text/x-python",
   "name": "python",
   "nbconvert_exporter": "python",
   "pygments_lexer": "ipython3",
   "version": "3.7.1"
  }
 },
 "nbformat": 4,
 "nbformat_minor": 2
}
