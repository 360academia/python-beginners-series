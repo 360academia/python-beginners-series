{
 "cells": [
  {
   "cell_type": "code",
   "execution_count": 3,
   "metadata": {},
   "outputs": [
    {
     "name": "stdout",
     "output_type": "stream",
     "text": [
      "Hello World\n"
     ]
    }
   ],
   "source": [
    "print(\"Hello World\")"
   ]
  },
  {
   "cell_type": "code",
   "execution_count": 4,
   "metadata": {},
   "outputs": [
    {
     "name": "stdout",
     "output_type": "stream",
     "text": [
      "Hello,\n",
      "I am starting off as a beginner\n",
      "I am going to be an pro soon\n"
     ]
    }
   ],
   "source": [
    "print(\"Hello,\")\n",
    "print(\"I am starting off as a beginner\")\n",
    "print(\"I am going to be an pro soon\")"
   ]
  },
  {
   "cell_type": "code",
   "execution_count": 5,
   "metadata": {},
   "outputs": [],
   "source": [
    "a = 1"
   ]
  },
  {
   "cell_type": "code",
   "execution_count": 6,
   "metadata": {},
   "outputs": [
    {
     "name": "stdout",
     "output_type": "stream",
     "text": [
      "1\n"
     ]
    }
   ],
   "source": [
    "print(a)"
   ]
  },
  {
   "cell_type": "code",
   "execution_count": 19,
   "metadata": {},
   "outputs": [
    {
     "name": "stdout",
     "output_type": "stream",
     "text": [
      "5 is smaller than them all!\n",
      "that is good!\n"
     ]
    }
   ],
   "source": [
    "b = 9\n",
    "c = 2\n",
    "if b < c:\n",
    "    print(\"the value of c is greater than the value of b\")\n",
    "    print(\"I like this\")\n",
    "elif b == c:\n",
    "    print(\"They are the same\")\n",
    "    print(\"cool!\")\n",
    "elif b - c > 5:\n",
    "    print(\"5 is smaller than them all!\")\n",
    "    print(\"that is good!\")\n",
    "else:\n",
    "    print(\"The value of b is greater than the value of c\")\n",
    "    print(\"I dont like this!\")"
   ]
  },
  {
   "cell_type": "code",
   "execution_count": 21,
   "metadata": {},
   "outputs": [
    {
     "name": "stdout",
     "output_type": "stream",
     "text": [
      "d - 1 is equal to e\n"
     ]
    }
   ],
   "source": [
    "d = 7\n",
    "e = 6\n",
    "if d < e:\n",
    "    print(\"I like this\")\n",
    "else:\n",
    "    if d - 1 == e:\n",
    "        print(\"d - 1 is equal to e\")\n",
    "    else:\n",
    "        print(\"d -1 is more than e\")"
   ]
  },
  {
   "cell_type": "code",
   "execution_count": 26,
   "metadata": {},
   "outputs": [],
   "source": [
    "# variable declearations\n",
    "individuals_weight_in_kg = 85\n",
    "individuals_height_in_miters = 2\n",
    "persons_name = \"360academia\"\n",
    "\n",
    "# The calculation\n",
    "bmi = individuals_weight_in_kg / (individuals_height_in_miters ** 2)"
   ]
  },
  {
   "cell_type": "code",
   "execution_count": 27,
   "metadata": {},
   "outputs": [
    {
     "name": "stdout",
     "output_type": "stream",
     "text": [
      "360academia\n",
      "bmi is \n",
      "21.25\n",
      "Congrates! Not verweight!\n"
     ]
    }
   ],
   "source": [
    "# lets print out the results\n",
    "print(persons_name)\n",
    "print(\"bmi is \")\n",
    "print(bmi)\n",
    "if bmi < 25:\n",
    "    print(\"Congrates! Not verweight!\")\n",
    "else:\n",
    "    print(\"Overweight!\")"
   ]
  },
  {
   "cell_type": "code",
   "execution_count": null,
   "metadata": {},
   "outputs": [],
   "source": []
  }
 ],
 "metadata": {
  "kernelspec": {
   "display_name": "Python 3",
   "language": "python",
   "name": "python3"
  },
  "language_info": {
   "codemirror_mode": {
    "name": "ipython",
    "version": 3
   },
   "file_extension": ".py",
   "mimetype": "text/x-python",
   "name": "python",
   "nbconvert_exporter": "python",
   "pygments_lexer": "ipython3",
   "version": "3.7.1"
  }
 },
 "nbformat": 4,
 "nbformat_minor": 2
}
